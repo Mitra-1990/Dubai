{
  "cells": [
    {
      "cell_type": "markdown",
      "metadata": {
        "id": "view-in-github",
        "colab_type": "text"
      },
      "source": [
        "<a href=\"https://colab.research.google.com/github/Mitra-1990/Dubai/blob/main/Exercise_python.ipynb\" target=\"_parent\"><img src=\"https://colab.research.google.com/assets/colab-badge.svg\" alt=\"Open In Colab\"/></a>"
      ]
    },
    {
      "cell_type": "markdown",
      "source": [
        "1. write a Python program to find the square of a number taken in input from the user\n",
        "(hint: we can only perform math operations on numeric types, while through the input\n",
        "function we get strings, so consider converting the obtained input...)"
      ],
      "metadata": {
        "id": "T9quabT4RKev"
      }
    },
    {
      "cell_type": "code",
      "source": [
        "user_number = input (\"enter a number: \")\n",
        "number = float (user_number)\n",
        "square = number * number\n",
        "print (\"the square of the number is: \", square)\n",
        "\n",
        "\n",
        "# write a Python program to find the square of a number taken in input from the user\n",
        "# (hint: we can only perform math operations on numeric types, while through the input\n",
        "# function we get strings, so consider converting the obtained input...)"
      ],
      "metadata": {
        "id": "Cpag1YIrE-id",
        "outputId": "bc36b294-0579-4c46-d4c4-79a5cec02157",
        "colab": {
          "base_uri": "https://localhost:8080/"
        }
      },
      "execution_count": null,
      "outputs": [
        {
          "output_type": "stream",
          "name": "stdout",
          "text": [
            "enter a number: 16\n",
            "the square of the number is:  256.0\n"
          ]
        }
      ]
    },
    {
      "cell_type": "markdown",
      "source": [
        "2. write a Python program to compute the area of a rectangle (length of sides must be\n",
        "given in input from the user)"
      ],
      "metadata": {
        "id": "rJpHEfgmPEPq"
      }
    },
    {
      "cell_type": "code",
      "source": [
        "user_length = input (\"enter the length of the rectangle: \")\n",
        "user_width = input (\"enter the width of the rectangle: \")\n",
        "area = float (user_length) * float(user_width)\n",
        "print (\"the area of the rectangle is \",area)"
      ],
      "metadata": {
        "colab": {
          "base_uri": "https://localhost:8080/"
        },
        "id": "4zsWoE0QPHYy",
        "outputId": "60ed0bde-6e80-43a2-cc6e-4fcb5d3ce842"
      },
      "execution_count": 2,
      "outputs": [
        {
          "output_type": "stream",
          "name": "stdout",
          "text": [
            "enter the length of the rectangle: 10\n",
            "enter the width of the rectangle: 4\n",
            "the area of the rectangle is  40.0\n"
          ]
        }
      ]
    },
    {
      "cell_type": "markdown",
      "source": [
        "3. write a Python program to swap (it means 'exchange') the values of two variables a and\n",
        "b, and print the initial and final values of the two variables"
      ],
      "metadata": {
        "id": "u6HlpWGnQdlP"
      }
    },
    {
      "cell_type": "code",
      "source": [
        "number_a = float(input(\"enter a value for a: \"))\n",
        "number_b = float(input(\"enter a value for b: \"))\n",
        "print (\"Before swapping:\")\n",
        "print(\"a =\", number_a)\n",
        "print (\"b = \", number_b)\n",
        "\n",
        "# Swapping the values\n",
        "temp = number_a\n",
        "number_a = number_b\n",
        "number_b = temp\n",
        "\n",
        "print (\"After swapping:\")\n",
        "print(\"a=\", number_a)\n",
        "print (\"b = \",number_b)"
      ],
      "metadata": {
        "colab": {
          "base_uri": "https://localhost:8080/"
        },
        "id": "WiWeSzoTQhZR",
        "outputId": "ee988190-c01c-496a-9c24-83badb08d553"
      },
      "execution_count": 7,
      "outputs": [
        {
          "output_type": "stream",
          "name": "stdout",
          "text": [
            "enter a value for a: 5\n",
            "enter a value for b: 8\n",
            "Before swapping:\n",
            "a = 5.0\n",
            "b =  8.0\n",
            "After swapping:\n",
            "a= 8.0\n",
            "b =  5.0\n"
          ]
        }
      ]
    },
    {
      "cell_type": "markdown",
      "source": [
        "4. add parentheses to the expression 7 * 2− 5 to change its value from 9 to -21 ."
      ],
      "metadata": {
        "id": "JX2TxTHtqRMA"
      }
    },
    {
      "cell_type": "code",
      "source": [
        "print(int(7*(2-5)))"
      ],
      "metadata": {
        "colab": {
          "base_uri": "https://localhost:8080/"
        },
        "id": "qYBjB2m-bcrn",
        "outputId": "445c87e2-584c-4583-d5c6-5b2a05c4ad9a"
      },
      "execution_count": 8,
      "outputs": [
        {
          "output_type": "stream",
          "name": "stdout",
          "text": [
            "-21\n"
          ]
        }
      ]
    },
    {
      "cell_type": "markdown",
      "source": [
        "5. find the last digit of the integer value 197\n",
        "and store it to the variable 'last_dgt'"
      ],
      "metadata": {
        "id": "V6gOv7NtraE8"
      }
    },
    {
      "cell_type": "code",
      "source": [
        "last_dgt = 197 % 10\n",
        "print (last_dgt)\n"
      ],
      "metadata": {
        "colab": {
          "base_uri": "https://localhost:8080/"
        },
        "id": "schYpnBkrdTG",
        "outputId": "549ca361-4633-4c76-bbae-bc0bd49fc099"
      },
      "execution_count": 9,
      "outputs": [
        {
          "output_type": "stream",
          "name": "stdout",
          "text": [
            "7\n"
          ]
        }
      ]
    },
    {
      "cell_type": "markdown",
      "source": [
        "6. write a Python program to convert a value expressed in meters/second into km/hour;\n",
        "compute how many km/h correspond to the speed of 35 m/sec"
      ],
      "metadata": {
        "id": "RW7t8hMmud1D"
      }
    },
    {
      "cell_type": "code",
      "source": [
        "speed_mps = 35\n",
        "speed_kmph = speed_mps * 3.6\n",
        "print (\"speed in Km.h is: \", speed_kmph)"
      ],
      "metadata": {
        "colab": {
          "base_uri": "https://localhost:8080/"
        },
        "id": "wvDEA9TLufjM",
        "outputId": "7370b7f0-a2e6-4101-e008-88ed58a9dc51"
      },
      "execution_count": 11,
      "outputs": [
        {
          "output_type": "stream",
          "name": "stdout",
          "text": [
            "speed in Km.h is:  126.0\n"
          ]
        }
      ]
    },
    {
      "cell_type": "markdown",
      "source": [
        "7. add 2 hours to a time (expressed in 24 hours format): what happens if you add 2 hours\n",
        "to 17:15 PM? and to 23:20? and if an alarm is added for 36 hours later? how such add\n",
        "operations can be computed?"
      ],
      "metadata": {
        "id": "kmoM_6eOwm10"
      }
    },
    {
      "cell_type": "code",
      "source": [
        "hour = 23\n",
        "minute = 20\n",
        "hour_to_add = 2\n",
        "new_hour = (hour + hour_to_add) % 24\n",
        "\n"
      ],
      "metadata": {
        "id": "QuIonbUcwqjk"
      },
      "execution_count": null,
      "outputs": []
    }
  ],
  "metadata": {
    "colab": {
      "toc_visible": true,
      "provenance": [],
      "include_colab_link": true
    },
    "kernelspec": {
      "display_name": "Python 3",
      "name": "python3"
    }
  },
  "nbformat": 4,
  "nbformat_minor": 0
}